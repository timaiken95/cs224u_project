{
 "cells": [
  {
   "cell_type": "code",
   "execution_count": 16,
   "metadata": {},
   "outputs": [],
   "source": [
    "import pandas as pd\n",
    "import numpy as np\n",
    "from keras.preprocessing.text import Tokenizer\n",
    "from keras.preprocessing.sequence import pad_sequences\n",
    "from sklearn import preprocessing\n",
    "from keras.utils import to_categorical\n",
    "from keras.layers import *\n",
    "from keras.models import Model\n",
    "from keras.models import Sequential\n",
    "from keras.optimizers import Adam"
   ]
  },
  {
   "cell_type": "code",
   "execution_count": 2,
   "metadata": {},
   "outputs": [],
   "source": [
    "data = pd.read_json('data.json')\n",
    "num_reviews, review_length = data.shape\n",
    "MAX_SEQUENCE_LENGTH = review_length"
   ]
  },
  {
   "cell_type": "code",
   "execution_count": 3,
   "metadata": {},
   "outputs": [],
   "source": [
    "vectors = np.load(\"GloVe_codeswitch_5k.npy\")\n",
    "words = np.load('5k_vocab_dict.npy').item()\n",
    "EMBEDDING_DIM = len(vectors[0])"
   ]
  },
  {
   "cell_type": "code",
   "execution_count": 5,
   "metadata": {},
   "outputs": [],
   "source": [
    "examples = []\n",
    "labels = []\n",
    "\n",
    "english = \"eng\"\n",
    "spanish = \"span\"\n",
    "other = \"other\"\n",
    "\n",
    "for r in range(num_reviews):\n",
    "    review_string = \"\"\n",
    "    label_vec = []\n",
    "    \n",
    "    for w in range(review_length):\n",
    "        \n",
    "        currWordStruct = data[w][r]\n",
    "        \n",
    "        if currWordStruct == None:\n",
    "            break\n",
    "        \n",
    "        currWord = currWordStruct[0]\n",
    "        \n",
    "        if currWord in words:\n",
    "            review_string += (\" \" + currWord)\n",
    "        else:\n",
    "            review_string += (\" <UNK>\")\n",
    "            \n",
    "        if w < (review_length - 1):\n",
    "            nextWordStruct = data[w + 1][r]\n",
    "            if nextWordStruct:\n",
    "                \n",
    "                nextWord = nextWordStruct[0]\n",
    "                nextLang = nextWordStruct[1]\n",
    "                \n",
    "                if nextLang == 'eng':\n",
    "                    label_vec.append(english)\n",
    "                \n",
    "                elif nextLang == 'spa':\n",
    "                    label_vec.append(spanish)\n",
    "                    \n",
    "                elif nextLang == 'eng&spa' or 'eng+spa' or 'spa+eng':\n",
    "                    label_vec.append(other)\n",
    "                \n",
    "            else:\n",
    "                label_vec.append(other)\n",
    "        \n",
    "    labels.append(label_vec)\n",
    "    examples.append(review_string)\n",
    "    "
   ]
  },
  {
   "cell_type": "code",
   "execution_count": 6,
   "metadata": {},
   "outputs": [],
   "source": [
    "tokenizer = Tokenizer(num_words=len(vectors), filters=\"\", lower=False)\n",
    "tokenizer.fit_on_texts(examples)\n",
    "sequences = tokenizer.texts_to_sequences(examples)\n",
    "\n",
    "word_index = tokenizer.word_index\n",
    "data = pad_sequences(sequences, maxlen=MAX_SEQUENCE_LENGTH)"
   ]
  },
  {
   "cell_type": "code",
   "execution_count": 7,
   "metadata": {},
   "outputs": [],
   "source": [
    "embedding_dict = {}\n",
    "for k,v in words.items():\n",
    "    embedding_dict[k] = vectors[v]\n",
    "\n",
    "embedding_matrix = np.zeros((len(word_index) + 1, EMBEDDING_DIM))\n",
    "for word, i in word_index.items():\n",
    "    embedding_vector = embedding_dict.get(word)\n",
    "    embedding_matrix[i] = embedding_vector"
   ]
  },
  {
   "cell_type": "code",
   "execution_count": 9,
   "metadata": {},
   "outputs": [],
   "source": [
    "le = preprocessing.LabelEncoder()\n",
    "le.fit([other, english, spanish])\n",
    "label_transform = np.zeros((len(labels), MAX_SEQUENCE_LENGTH, 3))\n",
    "for i, vec in enumerate(labels):\n",
    "\n",
    "    curr = to_categorical(pad_sequences([le.transform(vec)], maxlen=MAX_SEQUENCE_LENGTH), num_classes = 3)[0]\n",
    "    label_transform[i,:,:] = curr\n",
    "    \n",
    "keys = list(le.classes_)\n",
    "vals = le.transform(keys)\n",
    "labels_index = dict(zip(keys,vals))"
   ]
  },
  {
   "cell_type": "code",
   "execution_count": null,
   "metadata": {},
   "outputs": [
    {
     "name": "stdout",
     "output_type": "stream",
     "text": [
      "_________________________________________________________________\n",
      "Layer (type)                 Output Shape              Param #   \n",
      "=================================================================\n",
      "embedding_6 (Embedding)      (None, 61, 300)           1500300   \n",
      "_________________________________________________________________\n",
      "LSTM (LSTM)                  (None, 61, 200)           400800    \n",
      "_________________________________________________________________\n",
      "time_distributed_6 (TimeDist (None, 61, 3)             603       \n",
      "=================================================================\n",
      "Total params: 1,901,703\n",
      "Trainable params: 401,403\n",
      "Non-trainable params: 1,500,300\n",
      "_________________________________________________________________\n",
      "None\n",
      "Train on 28871 samples, validate on 5096 samples\n",
      "Epoch 1/6\n",
      "28871/28871 [==============================] - 95s 3ms/step - loss: 1.0436 - acc: 0.9704 - val_loss: 0.9443 - val_acc: 0.9656\n",
      "Epoch 2/6\n",
      "28871/28871 [==============================] - 92s 3ms/step - loss: 0.4999 - acc: 0.9716 - val_loss: 0.3687 - val_acc: 0.9648\n",
      "Epoch 3/6\n",
      "28871/28871 [==============================] - 106s 4ms/step - loss: 0.3017 - acc: 0.9710 - val_loss: 0.2899 - val_acc: 0.9647\n",
      "Epoch 4/6\n",
      "28800/28871 [============================>.] - ETA: 0s - loss: 0.2513 - acc: 0.9708"
     ]
    }
   ],
   "source": [
    "embedding_layer = Embedding(len(word_index) + 1,\n",
    "                            EMBEDDING_DIM,\n",
    "                            weights=[embedding_matrix],\n",
    "                            input_length=MAX_SEQUENCE_LENGTH,\n",
    "                            trainable=False)\n",
    "\n",
    "model = Sequential()\n",
    "model.add(embedding_layer)\n",
    "model.add(LSTM(200, return_sequences=True, name=\"LSTM\"))\n",
    "model.add(TimeDistributed(Dense(3, activation='softmax')))\n",
    "model.compile(loss='categorical_crossentropy', optimizer='adam', metrics=['accuracy'])\n",
    "print(model.summary())\n",
    "#model.train_on_batch(data[4:8,:], label_transform[4:8,:,:])\n",
    "#model.train_on_batch(data[8:12,:], label_transform[8:12,:,:])\n",
    "#model.predict_on_batch(data[10:20,:])\n",
    "results = model.fit(data, label_transform, epochs=6, validation_split = 0.15, batch_size=100)"
   ]
  },
  {
   "cell_type": "code",
   "execution_count": 14,
   "metadata": {},
   "outputs": [
    {
     "name": "stdout",
     "output_type": "stream",
     "text": [
      "{'val_loss': [0.08338849254981782, 0.07181232466451601, 0.06613644710164429, 0.05767091639263897, 0.049922280551593756, 0.050932187525616894], 'val_acc': [0.9662190822641741, 0.9684065900848274, 0.9704139498376771, 0.9717071547613039, 0.977976941426096, 0.9758923737276667], 'loss': [0.13421004519972604, 0.07175802746289925, 0.06448034259272702, 0.056941839478953066, 0.047357822854551465, 0.04275989503309413], 'acc': [0.9714740146713962, 0.9730462992444424, 0.9743801012755489, 0.9767461938351978, 0.9810491101696619, 0.9828774785397599]}\n"
     ]
    }
   ],
   "source": [
    "print(results.history)"
   ]
  },
  {
   "cell_type": "code",
   "execution_count": null,
   "metadata": {},
   "outputs": [],
   "source": []
  }
 ],
 "metadata": {
  "kernelspec": {
   "display_name": "Python 3",
   "language": "python",
   "name": "python3"
  },
  "language_info": {
   "codemirror_mode": {
    "name": "ipython",
    "version": 3
   },
   "file_extension": ".py",
   "mimetype": "text/x-python",
   "name": "python",
   "nbconvert_exporter": "python",
   "pygments_lexer": "ipython3",
   "version": "3.6.4"
  }
 },
 "nbformat": 4,
 "nbformat_minor": 2
}
