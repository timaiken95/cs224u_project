{
 "cells": [
  {
   "cell_type": "code",
   "execution_count": 16,
   "metadata": {},
   "outputs": [],
   "source": [
    "import pandas as pd\n",
    "import numpy as np\n",
    "from sklearn.metrics import confusion_matrix, f1_score, precision_score, recall_score"
   ]
  },
  {
   "cell_type": "code",
   "execution_count": 4,
   "metadata": {},
   "outputs": [],
   "source": [
    "data_train = pd.read_json('train.json')\n",
    "data_val = pd.read_json('val.json')"
   ]
  },
  {
   "cell_type": "code",
   "execution_count": 5,
   "metadata": {},
   "outputs": [],
   "source": [
    "def createBigramModel(data):\n",
    "    bigrams = {}\n",
    "    num_reviews, review_length = data.shape\n",
    "\n",
    "    for r in range(num_reviews):\n",
    "        prevWord = \"<start>\"\n",
    "\n",
    "        for w in range(review_length):\n",
    "\n",
    "            currWordStruct = data[w][r]\n",
    "\n",
    "            if currWordStruct == None:\n",
    "                break\n",
    "                \n",
    "            currWord = currWordStruct[0]\n",
    "            currLang = currWordStruct[1]\n",
    "\n",
    "            if w < (review_length - 1):\n",
    "                nextWordStruct = data[w + 1][r]\n",
    "                if nextWordStruct:\n",
    "\n",
    "                    nextWord = nextWordStruct[0]\n",
    "                    nextLang = nextWordStruct[1]\n",
    "                    \n",
    "                    toAppend = 0\n",
    "                    if currLang != nextLang:\n",
    "                        toAppend = 1\n",
    "                        \n",
    "                    if (prevWord, currWord) in bigrams.keys():\n",
    "                        bigrams[(prevWord, currWord)].append(toAppend)\n",
    "                    else:\n",
    "                        bigrams[(prevWord, currWord)] = [toAppend]\n",
    "            \n",
    "            prevWord = currWord\n",
    "    \n",
    "    for key in bigrams.keys():\n",
    "        bigrams[key] = np.mean(bigrams[key])\n",
    "    \n",
    "    return bigrams"
   ]
  },
  {
   "cell_type": "code",
   "execution_count": 6,
   "metadata": {},
   "outputs": [],
   "source": [
    "model = createBigramModel(data_train)"
   ]
  },
  {
   "cell_type": "code",
   "execution_count": 27,
   "metadata": {},
   "outputs": [],
   "source": [
    "def createLabelsBinary(data):\n",
    "    labels = []\n",
    "    num_reviews, review_length = data.shape\n",
    "\n",
    "    for r in range(num_reviews):\n",
    "        label_vec = []\n",
    "\n",
    "        for w in range(review_length):\n",
    "\n",
    "            currWordStruct = data[w][r]\n",
    "\n",
    "            if currWordStruct == None:\n",
    "                break\n",
    "                \n",
    "            currWord = currWordStruct[0]\n",
    "            currLang = currWordStruct[1]\n",
    "\n",
    "            if w < (review_length - 1):\n",
    "                nextWordStruct = data[w + 1][r]\n",
    "                if nextWordStruct:\n",
    "\n",
    "                    nextWord = nextWordStruct[0]\n",
    "                    nextLang = nextWordStruct[1]\n",
    "\n",
    "                    if currLang != nextLang:\n",
    "                        label_vec.append(1)\n",
    "                        \n",
    "                    else:\n",
    "                        label_vec.append(0)\n",
    "\n",
    "                else:\n",
    "                    label_vec.append(0)\n",
    "            else:\n",
    "                label_vec.append(0)\n",
    "\n",
    "        labels.append(label_vec)\n",
    "    \n",
    "    return labels\n",
    "    "
   ]
  },
  {
   "cell_type": "code",
   "execution_count": 28,
   "metadata": {},
   "outputs": [],
   "source": [
    "val_labels = createLabelsBinary(data_val)"
   ]
  },
  {
   "cell_type": "code",
   "execution_count": 33,
   "metadata": {},
   "outputs": [],
   "source": [
    "def testBayes(model, testData, testLabels):\n",
    "    num_reviews, review_length = testData.shape\n",
    "    trueLabels = []\n",
    "    predictLabels = []\n",
    "    \n",
    "    for r in range(num_reviews):\n",
    "        \n",
    "        reviewLabels = testLabels[r]\n",
    "        prevWord = \"<start>\"\n",
    "        \n",
    "        for w in range(review_length):\n",
    "\n",
    "            currWordStruct = testData[w][r]\n",
    "\n",
    "            if currWordStruct == None:\n",
    "                break\n",
    "                \n",
    "            currWord = currWordStruct[0]\n",
    "            \n",
    "            label = 0\n",
    "            if (prevWord, currWord) in model.keys():\n",
    "                prob = model[(prevWord, currWord)]\n",
    "                label = np.random.choice([0, 1], p=[1 - prob, prob])\n",
    "            \n",
    "            trueLabels.append(reviewLabels[w])\n",
    "            predictLabels.append(label)\n",
    "\n",
    "    val_f1 = f1_score(trueLabels, predictLabels, average='binary')\n",
    "    val_recall = recall_score(trueLabels, predictLabels, average='binary')\n",
    "    val_precision = precision_score(trueLabels, predictLabels, average='binary')\n",
    "    \n",
    "    print(\"— val_f1: %f — val_precision: %f — val_recall %f\" % (val_f1, val_precision, val_recall))"
   ]
  },
  {
   "cell_type": "code",
   "execution_count": 34,
   "metadata": {},
   "outputs": [
    {
     "name": "stdout",
     "output_type": "stream",
     "text": [
      "— val_f1: 0.314140 — val_precision: 0.315106 — val_recall 0.313179\n"
     ]
    }
   ],
   "source": [
    "testBayes(model, data_val, val_labels)"
   ]
  },
  {
   "cell_type": "code",
   "execution_count": null,
   "metadata": {},
   "outputs": [],
   "source": []
  }
 ],
 "metadata": {
  "kernelspec": {
   "display_name": "Python 3",
   "language": "python",
   "name": "python3"
  },
  "language_info": {
   "codemirror_mode": {
    "name": "ipython",
    "version": 3
   },
   "file_extension": ".py",
   "mimetype": "text/x-python",
   "name": "python",
   "nbconvert_exporter": "python",
   "pygments_lexer": "ipython3",
   "version": "3.6.4"
  }
 },
 "nbformat": 4,
 "nbformat_minor": 2
}
